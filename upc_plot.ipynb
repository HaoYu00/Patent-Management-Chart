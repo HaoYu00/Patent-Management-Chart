{
 "cells": [
  {
   "cell_type": "code",
   "execution_count": 1,
   "metadata": {
    "collapsed": true
   },
   "outputs": [],
   "source": [
    "from urllib.request import urlopen\n",
    "from bs4 import BeautifulSoup\n",
    "import re\n",
    "\n",
    "def urltemplate(template):\n",
    "    def opener(**kwargs):\n",
    "        return urlopen(template.format_map(kwargs))\n",
    "    return opener\n",
    "\n",
    "def getUPC(apno):\n",
    "\tUsurltempale =\"http://patft.uspto.gov/netacgi/nph-Parser?Sect2=PTO1&Sect2=HITOFF&p=1&u=%2Fnetahtml%2FPTO%2Fsearch-bool.html&r=1&f=G&l=50&d=PALL&RefSrch=yes&Query=PN%2F{patNo}\"\n",
    "\tUSpatent = urltemplate(Usurltempale)\n",
    "\n",
    "\tPat_html = USpatent(patNo=apno)\n",
    "\tbsObj = BeautifulSoup(Pat_html.read(), \"lxml\")\n",
    "\ttables = bsObj.findChildren(\"table\")\n",
    "\n",
    "\t############################################################\n",
    "\t#尋找包含\"Current U.S. Class:\"的表，有時在第4個有時在第5個\n",
    "\t############################################################\n",
    "\n",
    "\tp = tables[0].find(text=re.compile('Current U.S. Class:'))\n",
    "\ti = 2\n",
    "\twhile p == None:\n",
    "\t    i += 1\n",
    "\t    p = tables[i].find(text=re.compile('Current U.S. Class:'))\n",
    "\t    #print(i,p)\n",
    "\n",
    "\n",
    "\t############################################################\n",
    "\t#取出包含\"Current U.S. Class:\"的表內的每一欄位的文字或字串。\n",
    "\t############################################################\n",
    "\tdatas = []\n",
    "\trows = tables[i].findChildren(['tr'])\n",
    "\tfor row in rows:\n",
    "\t    cells = row.findChildren('td')\n",
    "\t    for cell in cells:\n",
    "\t        cell_content = cell.getText()\n",
    "\t        cleandata = re.sub( '\\s+'    , ' ', cell_content).strip()\n",
    "\t        cleandata = re.sub( '\\(.*?\\)', '' , cleandata).strip()\n",
    "\t        cleandata = re.sub( '&nbsp'  , ' ', cleandata).strip()    \n",
    "\t        datas.append(cleandata)         \n",
    "\treturn datas\n"
   ]
  },
  {
   "cell_type": "code",
   "execution_count": 5,
   "metadata": {},
   "outputs": [
    {
     "data": {
      "text/plain": [
       "[['Current U.S. Class:',\n",
       "  '351/110; 16/228; 351/121; 351/146; 351/153; 351/47',\n",
       "  'Current CPC Class:',\n",
       "  'G02C 1/02 ; G02C 1/06 ; G02C 5/2209 ; G02C 5/2272 ; G02C 5/229 ; G02C 9/00 ; Y10T 16/526',\n",
       "  'Current International Class:',\n",
       "  'G02C 9/00 ; G02C 5/22 ; G02C 1/02 ; G02C 1/00 ; G02C 1/06 ; G02C 001/02 ; G02C 005/22',\n",
       "  'Field of Search:',\n",
       "  ';351/44,47,111,115,121,124,133,146,153,110 ;16/228'],\n",
       " ['Current U.S. Class:',\n",
       "  '351/63; 16/228; 2/454; 351/153',\n",
       "  'Current CPC Class:',\n",
       "  'G02C 5/006 ; G02C 5/2263 ; Y10T 16/526 ; G02C 2200/02',\n",
       "  'Current International Class:',\n",
       "  'G02C 5/00 ; G02C 5/22 ; G02C 005/08 ; G02C 005/14',\n",
       "  'Field of Search:',\n",
       "  ';351/63,153,111,119,118,115,41 ;2/454 ;16/228'],\n",
       " ['Current U.S. Class:',\n",
       "  '351/115; 351/113; 351/153; 351/63',\n",
       "  'Current CPC Class:',\n",
       "  'G02C 5/001 ; G02C 5/006 ; G02C 5/2263 ; G02C 5/14 ; G02C 5/229 ; G02C 2200/28 ; Y10T 16/526',\n",
       "  'Current International Class:',\n",
       "  'G02C 5/00 ; G02C 5/22 ; G02C 005/08',\n",
       "  'Field of Search:',\n",
       "  ';351/63,41,140,153,115,113,44,111 ;2/454 ;16/228'],\n",
       " ['Current U.S. Class:',\n",
       "  '351/115; 16/228; 351/153; 351/63',\n",
       "  'Current CPC Class:',\n",
       "  'G02C 5/001 ; G02C 5/006 ; G02C 5/2263 ; G02C 5/14 ; G02C 5/229 ; G02C 2200/28 ; Y10T 16/526',\n",
       "  'Current International Class:',\n",
       "  'G02C 5/08',\n",
       "  'Field of Search:',\n",
       "  ';351/63,41,140,153,115,111 ;2/454 ;16/228'],\n",
       " ['Current U.S. Class:',\n",
       "  '351/63; 206/5; 351/41',\n",
       "  'Current CPC Class:',\n",
       "  'G02C 5/2263 ; G02C 5/006',\n",
       "  'Current International Class:',\n",
       "  'G02C 5/08',\n",
       "  'Field of Search:',\n",
       "  ';351/63,41,111,112,115,116,118,119,158 ;206/5'],\n",
       " ['Current U.S. Class:',\n",
       "  '16/224; 351/115',\n",
       "  'Current CPC Class:',\n",
       "  'F16C 11/0604 ; G02C 5/2263 ; Y10T 16/524 ; Y10T 16/526',\n",
       "  'Current International Class:',\n",
       "  'E05D 7/00',\n",
       "  'Field of Search:',\n",
       "  ';16/224,228 ;403/132,135 ;384/206,218 ;351/111,113,114,115,118,120,121'],\n",
       " ['Current U.S. Class:',\n",
       "  '351/153; 351/121; 351/63',\n",
       "  'Current CPC Class:',\n",
       "  'G02C 5/2209 ; G02C 5/006 ; G02C 5/229',\n",
       "  'Current International Class:',\n",
       "  'G02C 5/22',\n",
       "  'Field of Search:',\n",
       "  ';351/41,63,111,119,121,153 ;16/228'],\n",
       " ['Current U.S. Class:',\n",
       "  '1/1',\n",
       "  'Current CPC Class:',\n",
       "  'G02C 5/2263 ; G02C 5/10 ; G02C 5/006 ; G02C 2200/28',\n",
       "  'Current International Class:',\n",
       "  'G02C 5/08 ; G02C 5/00 ; G02C 5/10 ; G02C 5/22',\n",
       "  'Field of Search:',\n",
       "  ';351/63 ;2/454']]"
      ]
     },
     "execution_count": 5,
     "metadata": {},
     "output_type": "execute_result"
    }
   ],
   "source": [
    "patlist = ['5896186', '6530660', '6817710', '7070273', '7566127', '7886405', '8517532', '9541771']\n",
    "mixeddata = list (map(getUPC, patlist))                 #取得所有專利的 UPC\n",
    "\n",
    "mixeddata"
   ]
  },
  {
   "cell_type": "code",
   "execution_count": 10,
   "metadata": {},
   "outputs": [],
   "source": [
    "upclist = [x[1] for x in mixeddata] #mixeddata[0][1]\n",
    "cpclist = [x[3] for x in mixeddata] #mixeddata[0][1]\n",
    "Ipclist = [x[5] for x in mixeddata] #mixeddata[0][1]\n"
   ]
  },
  {
   "cell_type": "code",
   "execution_count": 8,
   "metadata": {},
   "outputs": [
    {
     "name": "stdout",
     "output_type": "stream",
     "text": [
      "Counter({'351/153': 5, '351/63': 5, '16/228': 3, '351/115': 3, '351/121': 2, '351/110': 1, '351/146': 1, '351/47': 1, '2/454': 1, '351/113': 1, '206/5': 1, '351/41': 1, '16/224': 1, '1/1': 1})\n"
     ]
    }
   ],
   "source": [
    "#UPC\n",
    "g = upclist              #要在這裡變更參數\n",
    "ag = \";\".join(g)\n",
    "sg = list (map(str.strip, ag.split(';'))) \n",
    "\n",
    "from collections import Counter\n",
    "D = Counter(sg)   #計算各類別的數量\n",
    "\n",
    "print(D)"
   ]
  },
  {
   "cell_type": "code",
   "execution_count": 9,
   "metadata": {},
   "outputs": [
    {
     "data": {
      "image/png": "[encoded data removed]",
      "text/plain": [
       "<matplotlib.figure.Figure at 0x989d4a5048>"
      ]
     },
     "metadata": {},
     "output_type": "display_data"
    }
   ],
   "source": [
    "import matplotlib.pyplot as plt\n",
    "\n",
    "plt.bar(   range(len(D)), D.values(), color='g', align='center')\n",
    "plt.xticks(range(len(D)), D.keys()  , fontsize = 12, rotation='vertical')\n",
    "\n",
    "plt.show()\n"
   ]
  },
  {
   "cell_type": "code",
   "execution_count": 11,
   "metadata": {},
   "outputs": [
    {
     "name": "stdout",
     "output_type": "stream",
     "text": [
      "Counter({'G02C 5/006': 6, 'G02C 5/2263': 6, 'Y10T 16/526': 5, 'G02C 5/229': 4, 'G02C 2200/28': 3, 'G02C 5/2209': 2, 'G02C 5/001': 2, 'G02C 5/14': 2, 'G02C 1/02': 1, 'G02C 1/06': 1, 'G02C 5/2272': 1, 'G02C 9/00': 1, 'G02C 2200/02': 1, 'F16C 11/0604': 1, 'Y10T 16/524': 1, 'G02C 5/10': 1})\n"
     ]
    },
    {
     "data": {
      "image/png": "[encoded data removed]",
      "text/plain": [
       "<matplotlib.figure.Figure at 0x989d49a7f0>"
      ]
     },
     "metadata": {},
     "output_type": "display_data"
    }
   ],
   "source": [
    "#UPC\n",
    "g = cpclist              #要在這裡變更參數\n",
    "ag = \";\".join(g)\n",
    "sg = list (map(str.strip, ag.split(';'))) \n",
    "\n",
    "from collections import Counter\n",
    "D = Counter(sg)   #計算各類別的數量\n",
    "print(D)\n",
    "\n",
    "import matplotlib.pyplot as plt\n",
    "\n",
    "plt.bar(   range(len(D)), D.values(), color='g', align='center')\n",
    "plt.xticks(range(len(D)), D.keys()  , fontsize = 12, rotation='vertical')\n",
    "\n",
    "plt.show()\n",
    "\n",
    "\n",
    "\n",
    "\n"
   ]
  },
  {
   "cell_type": "code",
   "execution_count": 12,
   "metadata": {},
   "outputs": [
    {
     "name": "stdout",
     "output_type": "stream",
     "text": [
      "Counter({'G02C 5/22': 5, 'G02C 5/00': 3, 'G02C 5/08': 3, 'G02C 005/08': 2, 'G02C 9/00': 1, 'G02C 1/02': 1, 'G02C 1/00': 1, 'G02C 1/06': 1, 'G02C 001/02': 1, 'G02C 005/22': 1, 'G02C 005/14': 1, 'E05D 7/00': 1, 'G02C 5/10': 1})\n"
     ]
    },
    {
     "data": {
      "image/png": "[encoded data removed]",
      "text/plain": [
       "<matplotlib.figure.Figure at 0x989e64dc50>"
      ]
     },
     "metadata": {},
     "output_type": "display_data"
    }
   ],
   "source": [
    "g = Ipclist              #要在這裡變更參數\n",
    "ag = \";\".join(g)\n",
    "sg = list (map(str.strip, ag.split(';'))) \n",
    "\n",
    "from collections import Counter\n",
    "D = Counter(sg)   #計算各類別的數量\n",
    "print(D)\n",
    "\n",
    "import matplotlib.pyplot as plt\n",
    "\n",
    "plt.bar(   range(len(D)), D.values(), color='g', align='center')\n",
    "plt.xticks(range(len(D)), D.keys()  , fontsize = 12, rotation='vertical')\n",
    "\n",
    "plt.show()\n"
   ]
  },
  {
   "cell_type": "code",
   "execution_count": 2,
   "metadata": {},
   "outputs": [
    {
     "data": {
      "text/plain": [
       "[['Current U.S. Class:',\n",
       "  '351/110; 16/228; 351/121; 351/146; 351/153; 351/47',\n",
       "  'Current CPC Class:',\n",
       "  'G02C 1/02 ; G02C 1/06 ; G02C 5/2209 ; G02C 5/2272 ; G02C 5/229 ; G02C 9/00 ; Y10T 16/526',\n",
       "  'Current International Class:',\n",
       "  'G02C 9/00 ; G02C 5/22 ; G02C 1/02 ; G02C 1/00 ; G02C 1/06 ; G02C 001/02 ; G02C 005/22',\n",
       "  'Field of Search:',\n",
       "  ';351/44,47,111,115,121,124,133,146,153,110 ;16/228']]"
      ]
     },
     "execution_count": 2,
     "metadata": {},
     "output_type": "execute_result"
    }
   ],
   "source": [
    "#patlist = ['5896186', '6530660', '6817710', '7070273', '7566127', '7886405', '8517532', '9541771']\n",
    "patlist = ['5896186']\n",
    "\n",
    "\n",
    "mixeddata = list (map(getUPC, patlist)) #取得所有專利的 UPC\n",
    "\n",
    "mixeddata"
   ]
  }
 ],
 "metadata": {
  "kernelspec": {
   "display_name": "Python 3",
   "language": "python",
   "name": "python3"
  },
  "language_info": {
   "codemirror_mode": {
    "name": "ipython",
    "version": 3
   },
   "file_extension": ".py",
   "mimetype": "text/x-python",
   "name": "python",
   "nbconvert_exporter": "python",
   "pygments_lexer": "ipython3",
   "version": "3.6.1"
  }
 },
 "nbformat": 4,
 "nbformat_minor": 2
}
